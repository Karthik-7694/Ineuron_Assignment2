{
 "cells": [
  {
   "cell_type": "code",
   "execution_count": 1,
   "metadata": {
    "collapsed": false,
    "deletable": true,
    "editable": true
   },
   "outputs": [
    {
     "name": "stdout",
     "output_type": "stream",
     "text": [
      "My Reduce Output is: 20.0\n"
     ]
    }
   ],
   "source": [
    "# Task 1\n",
    "\n",
    "#1.1) Write a Python Program to implement your own myreduce() function which works exactly likePython's built-in function reduce()\n",
    "\n",
    "def myreduce(function, values):\n",
    "    result = values[0]\n",
    "    for i in values[1:]:\n",
    "        result = function(result, i)\n",
    "    return result\n",
    "\n",
    "def function(a, b):\n",
    "    return a / b\n",
    "\n",
    "values = [300,15]\n",
    "print(f\"My Reduce Output is: {myreduce(function, values)}\")\n"
   ]
  },
  {
   "cell_type": "code",
   "execution_count": 2,
   "metadata": {
    "collapsed": false,
    "deletable": true,
    "editable": true
   },
   "outputs": [
    {
     "name": "stdout",
     "output_type": "stream",
     "text": [
      "My Filter Output is: [25, 50, 75]\n"
     ]
    }
   ],
   "source": [
    "# Task 1\n",
    "\n",
    "#1.2) Write a Python program to implement your own myfilter() function which works exactly like Python's built-in function filter()\n",
    "\n",
    "def myfilter(function, values):\n",
    "    result = list()\n",
    "    for i in values:\n",
    "        if function(i):\n",
    "            result.append(i)\n",
    "    return result\n",
    "\n",
    "def function(x):\n",
    "    if x % 5 == 0:\n",
    "        return True\n",
    "    else:\n",
    "        return False\n",
    "\n",
    "values = [12, 25, 50, 75, 53, 81]\n",
    "print(f\"My Filter Output is: {myfilter(function, values)}\")"
   ]
  },
  {
   "cell_type": "code",
   "execution_count": 3,
   "metadata": {
    "collapsed": false,
    "deletable": true,
    "editable": true
   },
   "outputs": [
    {
     "name": "stdout",
     "output_type": "stream",
     "text": [
      "['A', 'C', 'A', 'D', 'G', 'I', 'L', 'D']\n",
      "['x', 'xx', 'xxx', 'xxxx', 'y', 'yy', 'yyy', 'yyyy', 'z', 'zz', 'zzz', 'zzzz']\n",
      "['x', 'y', 'z', 'xx', 'yy', 'zz', 'xxx', 'yyy', 'zzz', 'xxxx', 'yyyy', 'zzzz']\n",
      "[[2], [3], [4], [3], [4], [5], [4], [5], [6]]\n",
      "[[2, 3, 4, 5], [3, 4, 5, 6], [4, 5, 6, 7], [5, 6, 7, 8]]\n",
      "[(1, 1), (2, 1), (3, 1), (1, 2), (2, 2), (3, 2), (1, 3), (2, 3), (3, 3)]\n"
     ]
    }
   ],
   "source": [
    "# Task 1\n",
    "\n",
    "#2)Implement List comprehensions to produce the following lists.\n",
    "\n",
    "'''\n",
    "Write List comprehensions to produce the following Lists\n",
    "['A', 'C', 'A', 'D', 'G', 'I', ’L’, ‘ D’]\n",
    "['x', 'xx', 'xxx', 'xxxx', 'y', 'yy', 'yyy', 'yyyy', 'z', 'zz', 'zzz', 'zzzz']\n",
    "['x', 'y', 'z', 'xx', 'yy', 'zz', 'xx', 'yy', 'zz', 'xxxx', 'yyyy', 'zzzz']\n",
    "[[2], [3], [4], [3], [4], [5], [4], [5], [6]]\n",
    "[[2, 3, 4, 5], [3, 4, 5, 6], [4, 5, 6, 7], [5, 6, 7, 8]]\n",
    "[(1, 1), (2, 1), (3, 1), (1, 2), (2, 2), (3, 2), (1, 3), (2, 3), (3, 3)]'''\n",
    "\n",
    "print([x for x in \"ACADGILD\"])\n",
    "print([x*i for x in \"xyz\" for i in range(1,5)])\n",
    "print([x*i for i in range(1,5) for x in \"xyz\"])\n",
    "print([[i+j] for i in range(2,5) for j in range(3)])\n",
    "print([[i,i+1,i+2,i+3] for i in range(2,6)])\n",
    "print([(j,i) for i in range(1,4) for j in range(1,4)])"
   ]
  },
  {
   "cell_type": "code",
   "execution_count": 4,
   "metadata": {
    "collapsed": false,
    "deletable": true,
    "editable": true
   },
   "outputs": [
    {
     "name": "stdout",
     "output_type": "stream",
     "text": [
      "yesterday\n"
     ]
    }
   ],
   "source": [
    "# Task 1\n",
    "#3)Implement a function longestWord() that takes a list of words and returns the longest one\n",
    "\n",
    "def longestWord(words_list):\n",
    "    word_len = []\n",
    "    for n in words_list:\n",
    "        word_len.append((len(n), n))\n",
    "    word_len.sort()\n",
    "    return word_len[-1][1]\n",
    "\n",
    "print(longestWord([\"It\", \"was\", \"raining\",\"yesterday\",\"and\",\"heavy\",\"flood\",\"was\",\"due\",\"to\",\"that\"]))"
   ]
  },
  {
   "cell_type": "code",
   "execution_count": 5,
   "metadata": {
    "collapsed": false,
    "deletable": true,
    "editable": true
   },
   "outputs": [
    {
     "name": "stdout",
     "output_type": "stream",
     "text": [
      "Area of triangle having length of 15,15 and 20 = 89.66569856974293\n"
     ]
    }
   ],
   "source": [
    "# Task 2\n",
    "'''\n",
    "1.1)Write a Python Program(with class concepts) to find the area of the triangle using the below\n",
    "formula.area = (s*(s-a)*(s-b)*(s-c)) ** 0.5Function to take the length of the sides of triangle from user should be defined in the parentclass and function to calculate the area should be defined in subclass.'''\n",
    "\n",
    "class Triangle:\n",
    "    def __init__(self, a, b, c):\n",
    "        self.a = a\n",
    "        self.b = b\n",
    "        self.c = c\n",
    "    \n",
    "    def area(self):\n",
    "        a = self.a\n",
    "        b = self.b\n",
    "        c = self.c \n",
    "        s = (a+b+c)/2\n",
    "        return (s*(s-a)*(s-b)*(s-c)) ** 0.5\n",
    "    \n",
    "\n",
    "values = Triangle(15,12,20)\n",
    "print(\"Area of triangle having length of 15,15 and 20 =\",values.area())\n"
   ]
  },
  {
   "cell_type": "code",
   "execution_count": 6,
   "metadata": {
    "collapsed": false,
    "deletable": true,
    "editable": true
   },
   "outputs": [
    {
     "name": "stdout",
     "output_type": "stream",
     "text": [
      "['raining', 'heavily', 'flood']\n"
     ]
    }
   ],
   "source": [
    "# Task2\n",
    "#1.2)Write a function filter_long_words() that takes a list of words and an integer n and returns the list of words that are longer than n.'''\n",
    "\n",
    "def filter_long_words(lists,number):\n",
    "    result = []\n",
    "    for i in range(len(lists)):\n",
    "        if len(lists[i]) > number:\n",
    "            result.append(lists[i])\n",
    "    return result\n",
    "\n",
    "print(filter_long_words(['it','was','raining','heavily','and','flood','was','due','to','that'], 4))"
   ]
  },
  {
   "cell_type": "code",
   "execution_count": 7,
   "metadata": {
    "collapsed": false,
    "deletable": true,
    "editable": true
   },
   "outputs": [
    {
     "name": "stdout",
     "output_type": "stream",
     "text": [
      "[2, 3, 4]\n"
     ]
    }
   ],
   "source": [
    "# Task2\n",
    "#2.1) '''Write a Python program using function concept that maps list of words into a list of integers representing the lengths of the corresponding words.Hint: If a list [ ab,cde,erty] is passed on to the python function output should come as [2,3,4]Here 2,3 and 4 are the lengths of the words in the list.'''\n",
    "\n",
    "# Method 1:using Map function\n",
    "\n",
    "def length_of_words(lists):\n",
    "    return list(map(lambda x: len(x), lists))\n",
    "\n",
    "print(length_of_words(['ab', 'cde', 'erty']))\n"
   ]
  },
  {
   "cell_type": "code",
   "execution_count": 8,
   "metadata": {
    "collapsed": false,
    "deletable": true,
    "editable": true
   },
   "outputs": [
    {
     "name": "stdout",
     "output_type": "stream",
     "text": [
      "[2, 3, 4]\n"
     ]
    }
   ],
   "source": [
    "# Task2\n",
    "#2.1) '''Write a Python program using function concept that maps list of words into a list of integers representing the lengths of the corresponding words.Hint: If a list [ ab,cde,erty] is passed on to the python function output should come as [2,3,4]Here 2,3 and 4 are the lengths of the words in the list.'''\n",
    "\n",
    "# Method 2:without using Map function\n",
    "\n",
    "def length_of_words(lists) :\n",
    "    # incase list argument have no records, then returning None.\n",
    "    if len(lists) == 0:\n",
    "        return None\n",
    "    \n",
    "    result = []\n",
    "    for i in range(0,len(lists)):\n",
    "        result.append(len(lists[i]))\n",
    "    return result\n",
    "\n",
    "print(length_of_words(['ab', 'cde', 'erty']))\n"
   ]
  },
  {
   "cell_type": "code",
   "execution_count": 9,
   "metadata": {
    "collapsed": true,
    "deletable": true,
    "editable": true
   },
   "outputs": [],
   "source": [
    "# Task 2\n",
    "#2.2)Write a Python function which takes a character (i.e. a string of length 1) and returns True if it is a vowel, False otherwise.\n",
    "\n",
    "# Method 1) using input function\n",
    "\n",
    "def vowel_or_not():\n",
    "    char=input(\"enter a char:\")\n",
    "    for i in char:\n",
    "        if i in ['a','e','i','o','u']:\n",
    "            return True\n",
    "        else:\n",
    "            return False"
   ]
  },
  {
   "cell_type": "code",
   "execution_count": 10,
   "metadata": {
    "collapsed": false,
    "deletable": true,
    "editable": true
   },
   "outputs": [
    {
     "name": "stdout",
     "output_type": "stream",
     "text": [
      "enter a char:d\n"
     ]
    },
    {
     "data": {
      "text/plain": [
       "False"
      ]
     },
     "execution_count": 10,
     "metadata": {},
     "output_type": "execute_result"
    }
   ],
   "source": [
    "vowel_or_not()"
   ]
  },
  {
   "cell_type": "code",
   "execution_count": 11,
   "metadata": {
    "collapsed": false,
    "deletable": true,
    "editable": true
   },
   "outputs": [
    {
     "name": "stdout",
     "output_type": "stream",
     "text": [
      "enter a char:a\n"
     ]
    },
    {
     "data": {
      "text/plain": [
       "True"
      ]
     },
     "execution_count": 11,
     "metadata": {},
     "output_type": "execute_result"
    }
   ],
   "source": [
    "vowel_or_not()"
   ]
  },
  {
   "cell_type": "code",
   "execution_count": 12,
   "metadata": {
    "collapsed": false,
    "deletable": true,
    "editable": true
   },
   "outputs": [
    {
     "name": "stdout",
     "output_type": "stream",
     "text": [
      "False\n",
      "False\n",
      "False\n",
      "True\n"
     ]
    }
   ],
   "source": [
    "# Task 2\n",
    "#2.2)Write a Python function which takes a character (i.e. a string of length 1) and returns True if it is a vowel, False otherwise.\n",
    "\n",
    "# Method 2) without using input function\n",
    "\n",
    "def vowel_or_not(character) :\n",
    "    vowel = \"AEIOU\"\n",
    "    if character.upper() in vowel :\n",
    "        return True\n",
    "    else :\n",
    "        return False\n",
    "\n",
    "    \n",
    "print(vowel_or_not('c'))\n",
    "print(vowel_or_not('d'))\n",
    "print(vowel_or_not('s'))\n",
    "print(vowel_or_not('a'))"
   ]
  }
 ],
 "metadata": {
  "kernelspec": {
   "display_name": "Python 3",
   "language": "python",
   "name": "python3"
  },
  "language_info": {
   "codemirror_mode": {
    "name": "ipython",
    "version": 3
   },
   "file_extension": ".py",
   "mimetype": "text/x-python",
   "name": "python",
   "nbconvert_exporter": "python",
   "pygments_lexer": "ipython3",
   "version": "3.5.2"
  }
 },
 "nbformat": 4,
 "nbformat_minor": 2
}
